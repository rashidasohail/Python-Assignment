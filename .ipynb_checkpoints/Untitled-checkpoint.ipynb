{
 "cells": [
  {
   "cell_type": "markdown",
   "metadata": {},
   "source": [
    "# Make a calculator using Python with addition , subtraction ,multiplication ,division and power."
   ]
  },
  {
   "cell_type": "code",
   "execution_count": null,
   "metadata": {},
   "outputs": [
    {
     "name": "stdout",
     "output_type": "stream",
     "text": [
      "Select operation:\n",
      "1.Addition\n",
      "2.Subtraction\n",
      "3.Multiplication\n",
      "4.Division\n",
      "5.Power\n"
     ]
    }
   ],
   "source": [
    "def addition(x, y):\n",
    "    return x + y\n",
    "\n",
    "\n",
    "def subtraction(x, y):\n",
    "    return x - y\n",
    "\n",
    "def multiplication(x, y):\n",
    "    return x * y\n",
    "\n",
    "def division(x, y):\n",
    "    return x / y\n",
    "\n",
    "def power(x, y):\n",
    "  \n",
    "    if (y == 0): return 1\n",
    "    elif (int(y % 2) == 0):\n",
    "        return (power(x, int(y / 2)) *\n",
    "               power(x, int(y / 2)))\n",
    "    else:\n",
    "        return (x * power(x, int(y / 2)) *\n",
    "                   power(x, int(y / 2)))\n",
    "\n",
    "print(\"Select operation:\")\n",
    "print(\"1.Addition\")\n",
    "print(\"2.Subtraction\")\n",
    "print(\"3.Multiplication\")\n",
    "print(\"4.Division\")\n",
    "print(\"5.Power\")\n",
    "\n",
    "while True:\n",
    "    \n",
    "    choice = input(\"Enter your choice: \")\n",
    "\n",
    "    \n",
    "    if choice in ('1', '2', '3', '4','5'):\n",
    "        num1 = float(input(\"Enter first number: \"))\n",
    "        num2 = float(input(\"Enter second number: \"))\n",
    "\n",
    "        if choice == '1':\n",
    "            print(num1, \"+\", num2, \"=\", addition(num1, num2))\n",
    "\n",
    "        elif choice == '2':\n",
    "            print(num1, \"-\", num2, \"=\", subtraction(num1, num2))\n",
    "\n",
    "        elif choice == '3':\n",
    "            print(num1, \"*\", num2, \"=\", multiplication(num1, num2))\n",
    "\n",
    "        elif choice == '4':\n",
    "            print(num1, \"/\", num2, \"=\", division(num1, num2))\n",
    "            \n",
    "        elif choice == '5':\n",
    "            print(num1, \"^\", num2, \"=\", power(num1, num2))\n",
    "        \n",
    "        next_calculation = input(\"Do you want to calculate more? (yes/no): \")\n",
    "            print(\"\\n\")\n",
    "        if next_calculation == \"no\":\n",
    "          break\n",
    "    \n",
    "    else:\n",
    "        print(\"Invalid Input\")"
   ]
  },
  {
   "cell_type": "code",
   "execution_count": null,
   "metadata": {},
   "outputs": [],
   "source": []
  }
 ],
 "metadata": {
  "kernelspec": {
   "display_name": "Python 3",
   "language": "python",
   "name": "python3"
  },
  "language_info": {
   "codemirror_mode": {
    "name": "ipython",
    "version": 3
   },
   "file_extension": ".py",
   "mimetype": "text/x-python",
   "name": "python",
   "nbconvert_exporter": "python",
   "pygments_lexer": "ipython3",
   "version": "3.7.4"
  }
 },
 "nbformat": 4,
 "nbformat_minor": 2
}
